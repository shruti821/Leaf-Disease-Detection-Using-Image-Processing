{
 "cells": [
  {
   "cell_type": "code",
   "execution_count": 6,
   "metadata": {},
   "outputs": [],
   "source": [
    "import numpy as np\n",
    "import pandas as pd\n",
    "import os\n",
    "import string"
   ]
  },
  {
   "cell_type": "code",
   "execution_count": 7,
   "metadata": {},
   "outputs": [],
   "source": [
    "dataset = pd.read_csv(\"plant_village.csv\")"
   ]
  },
  {
   "cell_type": "code",
   "execution_count": 8,
   "metadata": {},
   "outputs": [
    {
     "data": {
      "text/html": [
       "<div>\n",
       "<style scoped>\n",
       "    .dataframe tbody tr th:only-of-type {\n",
       "        vertical-align: middle;\n",
       "    }\n",
       "\n",
       "    .dataframe tbody tr th {\n",
       "        vertical-align: top;\n",
       "    }\n",
       "\n",
       "    .dataframe thead th {\n",
       "        text-align: right;\n",
       "    }\n",
       "</style>\n",
       "<table border=\"1\" class=\"dataframe\">\n",
       "  <thead>\n",
       "    <tr style=\"text-align: right;\">\n",
       "      <th></th>\n",
       "      <th>Unnamed: 0</th>\n",
       "      <th>mean_r</th>\n",
       "      <th>mean_g</th>\n",
       "      <th>mean_b</th>\n",
       "      <th>stddev_r</th>\n",
       "      <th>stddev_g</th>\n",
       "      <th>stddev_b</th>\n",
       "      <th>contrast</th>\n",
       "      <th>correlation</th>\n",
       "      <th>inverse_difference_moments</th>\n",
       "      <th>entropy</th>\n",
       "    </tr>\n",
       "  </thead>\n",
       "  <tbody>\n",
       "    <tr>\n",
       "      <th>0</th>\n",
       "      <td>0</td>\n",
       "      <td>92.509664</td>\n",
       "      <td>123.772174</td>\n",
       "      <td>115.994881</td>\n",
       "      <td>33.995882</td>\n",
       "      <td>30.674940</td>\n",
       "      <td>37.516841</td>\n",
       "      <td>141.245826</td>\n",
       "      <td>0.926668</td>\n",
       "      <td>0.206899</td>\n",
       "      <td>11.680282</td>\n",
       "    </tr>\n",
       "    <tr>\n",
       "      <th>1</th>\n",
       "      <td>0</td>\n",
       "      <td>82.475441</td>\n",
       "      <td>88.820207</td>\n",
       "      <td>98.832425</td>\n",
       "      <td>37.661143</td>\n",
       "      <td>34.035775</td>\n",
       "      <td>46.192337</td>\n",
       "      <td>223.679241</td>\n",
       "      <td>0.912155</td>\n",
       "      <td>0.142005</td>\n",
       "      <td>12.679627</td>\n",
       "    </tr>\n",
       "    <tr>\n",
       "      <th>2</th>\n",
       "      <td>0</td>\n",
       "      <td>114.306123</td>\n",
       "      <td>126.906421</td>\n",
       "      <td>98.876777</td>\n",
       "      <td>29.471802</td>\n",
       "      <td>23.918051</td>\n",
       "      <td>37.849226</td>\n",
       "      <td>54.678367</td>\n",
       "      <td>0.957859</td>\n",
       "      <td>0.342370</td>\n",
       "      <td>10.758493</td>\n",
       "    </tr>\n",
       "    <tr>\n",
       "      <th>3</th>\n",
       "      <td>0</td>\n",
       "      <td>125.301169</td>\n",
       "      <td>134.151762</td>\n",
       "      <td>124.036178</td>\n",
       "      <td>51.008068</td>\n",
       "      <td>44.354188</td>\n",
       "      <td>59.283671</td>\n",
       "      <td>1158.188428</td>\n",
       "      <td>0.731148</td>\n",
       "      <td>0.061645</td>\n",
       "      <td>14.094453</td>\n",
       "    </tr>\n",
       "    <tr>\n",
       "      <th>4</th>\n",
       "      <td>0</td>\n",
       "      <td>111.720339</td>\n",
       "      <td>115.258361</td>\n",
       "      <td>111.063832</td>\n",
       "      <td>55.794415</td>\n",
       "      <td>47.888428</td>\n",
       "      <td>64.473558</td>\n",
       "      <td>506.024359</td>\n",
       "      <td>0.903427</td>\n",
       "      <td>0.130418</td>\n",
       "      <td>13.272624</td>\n",
       "    </tr>\n",
       "    <tr>\n",
       "      <th>5</th>\n",
       "      <td>0</td>\n",
       "      <td>106.409224</td>\n",
       "      <td>108.721954</td>\n",
       "      <td>130.981618</td>\n",
       "      <td>24.463582</td>\n",
       "      <td>18.143031</td>\n",
       "      <td>38.716076</td>\n",
       "      <td>108.735126</td>\n",
       "      <td>0.875595</td>\n",
       "      <td>0.196078</td>\n",
       "      <td>11.287765</td>\n",
       "    </tr>\n",
       "    <tr>\n",
       "      <th>6</th>\n",
       "      <td>0</td>\n",
       "      <td>93.097803</td>\n",
       "      <td>107.912752</td>\n",
       "      <td>100.017474</td>\n",
       "      <td>43.902772</td>\n",
       "      <td>39.761931</td>\n",
       "      <td>52.662111</td>\n",
       "      <td>254.071102</td>\n",
       "      <td>0.925355</td>\n",
       "      <td>0.128134</td>\n",
       "      <td>12.951365</td>\n",
       "    </tr>\n",
       "    <tr>\n",
       "      <th>7</th>\n",
       "      <td>0</td>\n",
       "      <td>104.429062</td>\n",
       "      <td>111.851273</td>\n",
       "      <td>109.931693</td>\n",
       "      <td>56.930254</td>\n",
       "      <td>50.564104</td>\n",
       "      <td>64.346819</td>\n",
       "      <td>704.116973</td>\n",
       "      <td>0.874579</td>\n",
       "      <td>0.129248</td>\n",
       "      <td>13.605420</td>\n",
       "    </tr>\n",
       "    <tr>\n",
       "      <th>8</th>\n",
       "      <td>0</td>\n",
       "      <td>129.404691</td>\n",
       "      <td>138.095249</td>\n",
       "      <td>121.772908</td>\n",
       "      <td>49.042387</td>\n",
       "      <td>42.704688</td>\n",
       "      <td>58.295191</td>\n",
       "      <td>499.104008</td>\n",
       "      <td>0.877811</td>\n",
       "      <td>0.111657</td>\n",
       "      <td>12.977689</td>\n",
       "    </tr>\n",
       "    <tr>\n",
       "      <th>9</th>\n",
       "      <td>0</td>\n",
       "      <td>109.457106</td>\n",
       "      <td>108.060377</td>\n",
       "      <td>111.986971</td>\n",
       "      <td>36.088445</td>\n",
       "      <td>27.606863</td>\n",
       "      <td>52.477709</td>\n",
       "      <td>43.903045</td>\n",
       "      <td>0.976820</td>\n",
       "      <td>0.353223</td>\n",
       "      <td>10.693878</td>\n",
       "    </tr>\n",
       "    <tr>\n",
       "      <th>10</th>\n",
       "      <td>0</td>\n",
       "      <td>100.748657</td>\n",
       "      <td>115.644518</td>\n",
       "      <td>124.911171</td>\n",
       "      <td>35.533203</td>\n",
       "      <td>30.743041</td>\n",
       "      <td>52.060722</td>\n",
       "      <td>90.000663</td>\n",
       "      <td>0.959836</td>\n",
       "      <td>0.238851</td>\n",
       "      <td>11.431990</td>\n",
       "    </tr>\n",
       "    <tr>\n",
       "      <th>11</th>\n",
       "      <td>0</td>\n",
       "      <td>96.753229</td>\n",
       "      <td>114.159723</td>\n",
       "      <td>99.598286</td>\n",
       "      <td>47.272564</td>\n",
       "      <td>42.762870</td>\n",
       "      <td>57.401277</td>\n",
       "      <td>626.594593</td>\n",
       "      <td>0.842039</td>\n",
       "      <td>0.128690</td>\n",
       "      <td>13.410290</td>\n",
       "    </tr>\n",
       "    <tr>\n",
       "      <th>12</th>\n",
       "      <td>0</td>\n",
       "      <td>107.108624</td>\n",
       "      <td>110.356870</td>\n",
       "      <td>115.636692</td>\n",
       "      <td>26.179083</td>\n",
       "      <td>20.273846</td>\n",
       "      <td>39.608323</td>\n",
       "      <td>32.715367</td>\n",
       "      <td>0.964667</td>\n",
       "      <td>0.415945</td>\n",
       "      <td>9.924318</td>\n",
       "    </tr>\n",
       "    <tr>\n",
       "      <th>13</th>\n",
       "      <td>0</td>\n",
       "      <td>104.822735</td>\n",
       "      <td>113.308867</td>\n",
       "      <td>105.186365</td>\n",
       "      <td>57.773281</td>\n",
       "      <td>50.733442</td>\n",
       "      <td>66.679965</td>\n",
       "      <td>1124.616829</td>\n",
       "      <td>0.804476</td>\n",
       "      <td>0.082395</td>\n",
       "      <td>14.140149</td>\n",
       "    </tr>\n",
       "    <tr>\n",
       "      <th>14</th>\n",
       "      <td>0</td>\n",
       "      <td>84.590302</td>\n",
       "      <td>97.103658</td>\n",
       "      <td>92.933624</td>\n",
       "      <td>32.910126</td>\n",
       "      <td>30.717050</td>\n",
       "      <td>48.049434</td>\n",
       "      <td>150.167855</td>\n",
       "      <td>0.926191</td>\n",
       "      <td>0.162081</td>\n",
       "      <td>12.136934</td>\n",
       "    </tr>\n",
       "    <tr>\n",
       "      <th>15</th>\n",
       "      <td>0</td>\n",
       "      <td>117.633999</td>\n",
       "      <td>126.442210</td>\n",
       "      <td>120.935448</td>\n",
       "      <td>35.316128</td>\n",
       "      <td>27.192726</td>\n",
       "      <td>47.311172</td>\n",
       "      <td>69.492211</td>\n",
       "      <td>0.962514</td>\n",
       "      <td>0.226219</td>\n",
       "      <td>11.277493</td>\n",
       "    </tr>\n",
       "    <tr>\n",
       "      <th>16</th>\n",
       "      <td>0</td>\n",
       "      <td>123.295911</td>\n",
       "      <td>131.071122</td>\n",
       "      <td>113.598594</td>\n",
       "      <td>36.306309</td>\n",
       "      <td>25.858205</td>\n",
       "      <td>41.131928</td>\n",
       "      <td>229.035323</td>\n",
       "      <td>0.868394</td>\n",
       "      <td>0.109622</td>\n",
       "      <td>12.468313</td>\n",
       "    </tr>\n",
       "    <tr>\n",
       "      <th>17</th>\n",
       "      <td>0</td>\n",
       "      <td>111.600364</td>\n",
       "      <td>131.313225</td>\n",
       "      <td>104.654238</td>\n",
       "      <td>48.578774</td>\n",
       "      <td>39.881202</td>\n",
       "      <td>59.459647</td>\n",
       "      <td>358.663392</td>\n",
       "      <td>0.899243</td>\n",
       "      <td>0.143802</td>\n",
       "      <td>12.775604</td>\n",
       "    </tr>\n",
       "    <tr>\n",
       "      <th>18</th>\n",
       "      <td>0</td>\n",
       "      <td>101.071925</td>\n",
       "      <td>108.062248</td>\n",
       "      <td>118.248738</td>\n",
       "      <td>30.885113</td>\n",
       "      <td>28.050737</td>\n",
       "      <td>44.315640</td>\n",
       "      <td>63.452590</td>\n",
       "      <td>0.963256</td>\n",
       "      <td>0.255381</td>\n",
       "      <td>11.331872</td>\n",
       "    </tr>\n",
       "    <tr>\n",
       "      <th>19</th>\n",
       "      <td>0</td>\n",
       "      <td>67.049130</td>\n",
       "      <td>91.190924</td>\n",
       "      <td>92.909144</td>\n",
       "      <td>34.337304</td>\n",
       "      <td>29.057027</td>\n",
       "      <td>39.903054</td>\n",
       "      <td>89.939104</td>\n",
       "      <td>0.955677</td>\n",
       "      <td>0.230539</td>\n",
       "      <td>11.076567</td>\n",
       "    </tr>\n",
       "    <tr>\n",
       "      <th>20</th>\n",
       "      <td>0</td>\n",
       "      <td>91.755909</td>\n",
       "      <td>99.267185</td>\n",
       "      <td>92.280921</td>\n",
       "      <td>25.590142</td>\n",
       "      <td>17.623805</td>\n",
       "      <td>30.496910</td>\n",
       "      <td>80.945789</td>\n",
       "      <td>0.894686</td>\n",
       "      <td>0.206970</td>\n",
       "      <td>11.153970</td>\n",
       "    </tr>\n",
       "    <tr>\n",
       "      <th>21</th>\n",
       "      <td>0</td>\n",
       "      <td>92.549419</td>\n",
       "      <td>109.466051</td>\n",
       "      <td>104.976524</td>\n",
       "      <td>30.231139</td>\n",
       "      <td>23.137224</td>\n",
       "      <td>41.728130</td>\n",
       "      <td>288.800264</td>\n",
       "      <td>0.770001</td>\n",
       "      <td>0.105752</td>\n",
       "      <td>12.438861</td>\n",
       "    </tr>\n",
       "    <tr>\n",
       "      <th>22</th>\n",
       "      <td>0</td>\n",
       "      <td>102.255659</td>\n",
       "      <td>108.301202</td>\n",
       "      <td>115.961584</td>\n",
       "      <td>25.786721</td>\n",
       "      <td>22.587009</td>\n",
       "      <td>41.883286</td>\n",
       "      <td>88.567553</td>\n",
       "      <td>0.922593</td>\n",
       "      <td>0.206330</td>\n",
       "      <td>11.425238</td>\n",
       "    </tr>\n",
       "    <tr>\n",
       "      <th>23</th>\n",
       "      <td>0</td>\n",
       "      <td>96.176072</td>\n",
       "      <td>98.394686</td>\n",
       "      <td>87.584619</td>\n",
       "      <td>32.604086</td>\n",
       "      <td>28.690745</td>\n",
       "      <td>45.748030</td>\n",
       "      <td>335.875841</td>\n",
       "      <td>0.806877</td>\n",
       "      <td>0.125795</td>\n",
       "      <td>12.562773</td>\n",
       "    </tr>\n",
       "    <tr>\n",
       "      <th>24</th>\n",
       "      <td>0</td>\n",
       "      <td>134.436626</td>\n",
       "      <td>148.706411</td>\n",
       "      <td>120.161933</td>\n",
       "      <td>41.964471</td>\n",
       "      <td>37.070785</td>\n",
       "      <td>53.441023</td>\n",
       "      <td>463.516319</td>\n",
       "      <td>0.835029</td>\n",
       "      <td>0.092119</td>\n",
       "      <td>13.074115</td>\n",
       "    </tr>\n",
       "    <tr>\n",
       "      <th>25</th>\n",
       "      <td>0</td>\n",
       "      <td>102.454105</td>\n",
       "      <td>118.181223</td>\n",
       "      <td>86.756313</td>\n",
       "      <td>51.570543</td>\n",
       "      <td>45.054346</td>\n",
       "      <td>61.346504</td>\n",
       "      <td>850.083007</td>\n",
       "      <td>0.810205</td>\n",
       "      <td>0.099001</td>\n",
       "      <td>13.566597</td>\n",
       "    </tr>\n",
       "    <tr>\n",
       "      <th>26</th>\n",
       "      <td>0</td>\n",
       "      <td>94.210263</td>\n",
       "      <td>107.324541</td>\n",
       "      <td>94.931228</td>\n",
       "      <td>45.948648</td>\n",
       "      <td>38.578525</td>\n",
       "      <td>56.854261</td>\n",
       "      <td>293.276262</td>\n",
       "      <td>0.915909</td>\n",
       "      <td>0.154587</td>\n",
       "      <td>12.770534</td>\n",
       "    </tr>\n",
       "    <tr>\n",
       "      <th>27</th>\n",
       "      <td>0</td>\n",
       "      <td>95.552522</td>\n",
       "      <td>109.781215</td>\n",
       "      <td>92.734955</td>\n",
       "      <td>47.501745</td>\n",
       "      <td>36.289773</td>\n",
       "      <td>55.222719</td>\n",
       "      <td>119.368541</td>\n",
       "      <td>0.964378</td>\n",
       "      <td>0.180364</td>\n",
       "      <td>12.189702</td>\n",
       "    </tr>\n",
       "    <tr>\n",
       "      <th>28</th>\n",
       "      <td>0</td>\n",
       "      <td>122.843872</td>\n",
       "      <td>134.987061</td>\n",
       "      <td>117.638576</td>\n",
       "      <td>43.928392</td>\n",
       "      <td>33.792253</td>\n",
       "      <td>56.320869</td>\n",
       "      <td>424.428194</td>\n",
       "      <td>0.843324</td>\n",
       "      <td>0.133248</td>\n",
       "      <td>12.886490</td>\n",
       "    </tr>\n",
       "    <tr>\n",
       "      <th>29</th>\n",
       "      <td>0</td>\n",
       "      <td>92.473375</td>\n",
       "      <td>96.071259</td>\n",
       "      <td>105.471710</td>\n",
       "      <td>24.395554</td>\n",
       "      <td>17.523767</td>\n",
       "      <td>38.498631</td>\n",
       "      <td>90.343912</td>\n",
       "      <td>0.876655</td>\n",
       "      <td>0.174655</td>\n",
       "      <td>11.153522</td>\n",
       "    </tr>\n",
       "  </tbody>\n",
       "</table>\n",
       "</div>"
      ],
      "text/plain": [
       "    Unnamed: 0      mean_r      mean_g      mean_b   stddev_r   stddev_g  \\\n",
       "0            0   92.509664  123.772174  115.994881  33.995882  30.674940   \n",
       "1            0   82.475441   88.820207   98.832425  37.661143  34.035775   \n",
       "2            0  114.306123  126.906421   98.876777  29.471802  23.918051   \n",
       "3            0  125.301169  134.151762  124.036178  51.008068  44.354188   \n",
       "4            0  111.720339  115.258361  111.063832  55.794415  47.888428   \n",
       "5            0  106.409224  108.721954  130.981618  24.463582  18.143031   \n",
       "6            0   93.097803  107.912752  100.017474  43.902772  39.761931   \n",
       "7            0  104.429062  111.851273  109.931693  56.930254  50.564104   \n",
       "8            0  129.404691  138.095249  121.772908  49.042387  42.704688   \n",
       "9            0  109.457106  108.060377  111.986971  36.088445  27.606863   \n",
       "10           0  100.748657  115.644518  124.911171  35.533203  30.743041   \n",
       "11           0   96.753229  114.159723   99.598286  47.272564  42.762870   \n",
       "12           0  107.108624  110.356870  115.636692  26.179083  20.273846   \n",
       "13           0  104.822735  113.308867  105.186365  57.773281  50.733442   \n",
       "14           0   84.590302   97.103658   92.933624  32.910126  30.717050   \n",
       "15           0  117.633999  126.442210  120.935448  35.316128  27.192726   \n",
       "16           0  123.295911  131.071122  113.598594  36.306309  25.858205   \n",
       "17           0  111.600364  131.313225  104.654238  48.578774  39.881202   \n",
       "18           0  101.071925  108.062248  118.248738  30.885113  28.050737   \n",
       "19           0   67.049130   91.190924   92.909144  34.337304  29.057027   \n",
       "20           0   91.755909   99.267185   92.280921  25.590142  17.623805   \n",
       "21           0   92.549419  109.466051  104.976524  30.231139  23.137224   \n",
       "22           0  102.255659  108.301202  115.961584  25.786721  22.587009   \n",
       "23           0   96.176072   98.394686   87.584619  32.604086  28.690745   \n",
       "24           0  134.436626  148.706411  120.161933  41.964471  37.070785   \n",
       "25           0  102.454105  118.181223   86.756313  51.570543  45.054346   \n",
       "26           0   94.210263  107.324541   94.931228  45.948648  38.578525   \n",
       "27           0   95.552522  109.781215   92.734955  47.501745  36.289773   \n",
       "28           0  122.843872  134.987061  117.638576  43.928392  33.792253   \n",
       "29           0   92.473375   96.071259  105.471710  24.395554  17.523767   \n",
       "\n",
       "     stddev_b     contrast  correlation  inverse_difference_moments    entropy  \n",
       "0   37.516841   141.245826     0.926668                    0.206899  11.680282  \n",
       "1   46.192337   223.679241     0.912155                    0.142005  12.679627  \n",
       "2   37.849226    54.678367     0.957859                    0.342370  10.758493  \n",
       "3   59.283671  1158.188428     0.731148                    0.061645  14.094453  \n",
       "4   64.473558   506.024359     0.903427                    0.130418  13.272624  \n",
       "5   38.716076   108.735126     0.875595                    0.196078  11.287765  \n",
       "6   52.662111   254.071102     0.925355                    0.128134  12.951365  \n",
       "7   64.346819   704.116973     0.874579                    0.129248  13.605420  \n",
       "8   58.295191   499.104008     0.877811                    0.111657  12.977689  \n",
       "9   52.477709    43.903045     0.976820                    0.353223  10.693878  \n",
       "10  52.060722    90.000663     0.959836                    0.238851  11.431990  \n",
       "11  57.401277   626.594593     0.842039                    0.128690  13.410290  \n",
       "12  39.608323    32.715367     0.964667                    0.415945   9.924318  \n",
       "13  66.679965  1124.616829     0.804476                    0.082395  14.140149  \n",
       "14  48.049434   150.167855     0.926191                    0.162081  12.136934  \n",
       "15  47.311172    69.492211     0.962514                    0.226219  11.277493  \n",
       "16  41.131928   229.035323     0.868394                    0.109622  12.468313  \n",
       "17  59.459647   358.663392     0.899243                    0.143802  12.775604  \n",
       "18  44.315640    63.452590     0.963256                    0.255381  11.331872  \n",
       "19  39.903054    89.939104     0.955677                    0.230539  11.076567  \n",
       "20  30.496910    80.945789     0.894686                    0.206970  11.153970  \n",
       "21  41.728130   288.800264     0.770001                    0.105752  12.438861  \n",
       "22  41.883286    88.567553     0.922593                    0.206330  11.425238  \n",
       "23  45.748030   335.875841     0.806877                    0.125795  12.562773  \n",
       "24  53.441023   463.516319     0.835029                    0.092119  13.074115  \n",
       "25  61.346504   850.083007     0.810205                    0.099001  13.566597  \n",
       "26  56.854261   293.276262     0.915909                    0.154587  12.770534  \n",
       "27  55.222719   119.368541     0.964378                    0.180364  12.189702  \n",
       "28  56.320869   424.428194     0.843324                    0.133248  12.886490  \n",
       "29  38.498631    90.343912     0.876655                    0.174655  11.153522  "
      ]
     },
     "execution_count": 8,
     "metadata": {},
     "output_type": "execute_result"
    }
   ],
   "source": [
    "dataset.head(30)"
   ]
  },
  {
   "cell_type": "code",
   "execution_count": 9,
   "metadata": {},
   "outputs": [
    {
     "data": {
      "text/plain": [
       "pandas.core.frame.DataFrame"
      ]
     },
     "execution_count": 9,
     "metadata": {},
     "output_type": "execute_result"
    }
   ],
   "source": [
    "type(dataset)"
   ]
  },
  {
   "cell_type": "code",
   "execution_count": 10,
   "metadata": {},
   "outputs": [],
   "source": [
    "maindir = r'C:\\Users\\Gujjar Boy\\Downloads\\Programs\\A Final Year Project'\n",
    "ds_path = maindir + \"\\\\crowdai\"\n",
    "img_files = os.listdir(ds_path)"
   ]
  },
  {
   "cell_type": "code",
   "execution_count": 11,
   "metadata": {},
   "outputs": [
    {
     "data": {
      "text/plain": [
       "'1000.jpg'"
      ]
     },
     "execution_count": 11,
     "metadata": {},
     "output_type": "execute_result"
    }
   ],
   "source": [
    "img_files[0]"
   ]
  },
  {
   "cell_type": "code",
   "execution_count": 12,
   "metadata": {},
   "outputs": [
    {
     "name": "stdout",
     "output_type": "stream",
     "text": [
      "34\n"
     ]
    }
   ],
   "source": [
    "breakpoints = [1000,1269,1270,1549,1550,1673,1674,2386,2387,2972,2973,3482,3483,3840,3841,4031,4032,4550,4551,4924,4925,5369,5370,5845,5846,6397,6398,6817,6818,6988,6989,9309,9310,9999]\n",
    "print(len(breakpoints))"
   ]
  },
  {
   "cell_type": "code",
   "execution_count": 13,
   "metadata": {},
   "outputs": [],
   "source": [
    "\n",
    "target_list = []\n",
    "for file in img_files:\n",
    "    target_num = int(file.split(\".\")[0])\n",
    "    #print(target_num)\n",
    "    flag = 0\n",
    "    i = 0 \n",
    "    for i in range(0,len(breakpoints),2):\n",
    "        if((target_num >= breakpoints[i]) and (target_num <= breakpoints[i+1])):\n",
    "            flag = 1\n",
    "            break\n",
    "    \n",
    "    if(flag==1):\n",
    "        target = int((i/2))\n",
    "        target_list.append(target)"
   ]
  },
  {
   "cell_type": "code",
   "execution_count": 14,
   "metadata": {},
   "outputs": [
    {
     "data": {
      "text/plain": [
       "array([ 0,  0,  0, ..., 16, 16, 16])"
      ]
     },
     "execution_count": 14,
     "metadata": {},
     "output_type": "execute_result"
    }
   ],
   "source": [
    "y = np.array(target_list)\n",
    "y"
   ]
  },
  {
   "cell_type": "code",
   "execution_count": 15,
   "metadata": {},
   "outputs": [],
   "source": [
    "\n",
    "X = dataset.iloc[:,1:]"
   ]
  },
  {
   "cell_type": "code",
   "execution_count": 16,
   "metadata": {},
   "outputs": [
    {
     "data": {
      "text/html": [
       "<div>\n",
       "<style scoped>\n",
       "    .dataframe tbody tr th:only-of-type {\n",
       "        vertical-align: middle;\n",
       "    }\n",
       "\n",
       "    .dataframe tbody tr th {\n",
       "        vertical-align: top;\n",
       "    }\n",
       "\n",
       "    .dataframe thead th {\n",
       "        text-align: right;\n",
       "    }\n",
       "</style>\n",
       "<table border=\"1\" class=\"dataframe\">\n",
       "  <thead>\n",
       "    <tr style=\"text-align: right;\">\n",
       "      <th></th>\n",
       "      <th>mean_r</th>\n",
       "      <th>mean_g</th>\n",
       "      <th>mean_b</th>\n",
       "      <th>stddev_r</th>\n",
       "      <th>stddev_g</th>\n",
       "      <th>stddev_b</th>\n",
       "      <th>contrast</th>\n",
       "      <th>correlation</th>\n",
       "      <th>inverse_difference_moments</th>\n",
       "      <th>entropy</th>\n",
       "    </tr>\n",
       "  </thead>\n",
       "  <tbody>\n",
       "    <tr>\n",
       "      <th>0</th>\n",
       "      <td>92.509664</td>\n",
       "      <td>123.772174</td>\n",
       "      <td>115.994881</td>\n",
       "      <td>33.995882</td>\n",
       "      <td>30.674940</td>\n",
       "      <td>37.516841</td>\n",
       "      <td>141.245826</td>\n",
       "      <td>0.926668</td>\n",
       "      <td>0.206899</td>\n",
       "      <td>11.680282</td>\n",
       "    </tr>\n",
       "    <tr>\n",
       "      <th>1</th>\n",
       "      <td>82.475441</td>\n",
       "      <td>88.820207</td>\n",
       "      <td>98.832425</td>\n",
       "      <td>37.661143</td>\n",
       "      <td>34.035775</td>\n",
       "      <td>46.192337</td>\n",
       "      <td>223.679241</td>\n",
       "      <td>0.912155</td>\n",
       "      <td>0.142005</td>\n",
       "      <td>12.679627</td>\n",
       "    </tr>\n",
       "    <tr>\n",
       "      <th>2</th>\n",
       "      <td>114.306123</td>\n",
       "      <td>126.906421</td>\n",
       "      <td>98.876777</td>\n",
       "      <td>29.471802</td>\n",
       "      <td>23.918051</td>\n",
       "      <td>37.849226</td>\n",
       "      <td>54.678367</td>\n",
       "      <td>0.957859</td>\n",
       "      <td>0.342370</td>\n",
       "      <td>10.758493</td>\n",
       "    </tr>\n",
       "    <tr>\n",
       "      <th>3</th>\n",
       "      <td>125.301169</td>\n",
       "      <td>134.151762</td>\n",
       "      <td>124.036178</td>\n",
       "      <td>51.008068</td>\n",
       "      <td>44.354188</td>\n",
       "      <td>59.283671</td>\n",
       "      <td>1158.188428</td>\n",
       "      <td>0.731148</td>\n",
       "      <td>0.061645</td>\n",
       "      <td>14.094453</td>\n",
       "    </tr>\n",
       "    <tr>\n",
       "      <th>4</th>\n",
       "      <td>111.720339</td>\n",
       "      <td>115.258361</td>\n",
       "      <td>111.063832</td>\n",
       "      <td>55.794415</td>\n",
       "      <td>47.888428</td>\n",
       "      <td>64.473558</td>\n",
       "      <td>506.024359</td>\n",
       "      <td>0.903427</td>\n",
       "      <td>0.130418</td>\n",
       "      <td>13.272624</td>\n",
       "    </tr>\n",
       "  </tbody>\n",
       "</table>\n",
       "</div>"
      ],
      "text/plain": [
       "       mean_r      mean_g      mean_b   stddev_r   stddev_g   stddev_b  \\\n",
       "0   92.509664  123.772174  115.994881  33.995882  30.674940  37.516841   \n",
       "1   82.475441   88.820207   98.832425  37.661143  34.035775  46.192337   \n",
       "2  114.306123  126.906421   98.876777  29.471802  23.918051  37.849226   \n",
       "3  125.301169  134.151762  124.036178  51.008068  44.354188  59.283671   \n",
       "4  111.720339  115.258361  111.063832  55.794415  47.888428  64.473558   \n",
       "\n",
       "      contrast  correlation  inverse_difference_moments    entropy  \n",
       "0   141.245826     0.926668                    0.206899  11.680282  \n",
       "1   223.679241     0.912155                    0.142005  12.679627  \n",
       "2    54.678367     0.957859                    0.342370  10.758493  \n",
       "3  1158.188428     0.731148                    0.061645  14.094453  \n",
       "4   506.024359     0.903427                    0.130418  13.272624  "
      ]
     },
     "execution_count": 16,
     "metadata": {},
     "output_type": "execute_result"
    }
   ],
   "source": [
    "X.head(5)"
   ]
  },
  {
   "cell_type": "code",
   "execution_count": 15,
   "metadata": {},
   "outputs": [
    {
     "data": {
      "text/plain": [
       "array([0, 0, 0, 0, 0])"
      ]
     },
     "execution_count": 15,
     "metadata": {},
     "output_type": "execute_result"
    }
   ],
   "source": [
    "y[0:5]"
   ]
  },
  {
   "cell_type": "code",
   "execution_count": 16,
   "metadata": {},
   "outputs": [],
   "source": [
    "#Train test split"
   ]
  },
  {
   "cell_type": "code",
   "execution_count": 17,
   "metadata": {},
   "outputs": [],
   "source": [
    "from sklearn.model_selection import train_test_split"
   ]
  },
  {
   "cell_type": "code",
   "execution_count": 18,
   "metadata": {},
   "outputs": [],
   "source": [
    "X_train, X_test, y_train, y_test = train_test_split(X, y, test_size=0.3, random_state = 142)"
   ]
  },
  {
   "cell_type": "code",
   "execution_count": 19,
   "metadata": {},
   "outputs": [
    {
     "data": {
      "text/html": [
       "<div>\n",
       "<style scoped>\n",
       "    .dataframe tbody tr th:only-of-type {\n",
       "        vertical-align: middle;\n",
       "    }\n",
       "\n",
       "    .dataframe tbody tr th {\n",
       "        vertical-align: top;\n",
       "    }\n",
       "\n",
       "    .dataframe thead th {\n",
       "        text-align: right;\n",
       "    }\n",
       "</style>\n",
       "<table border=\"1\" class=\"dataframe\">\n",
       "  <thead>\n",
       "    <tr style=\"text-align: right;\">\n",
       "      <th></th>\n",
       "      <th>mean_r</th>\n",
       "      <th>mean_g</th>\n",
       "      <th>mean_b</th>\n",
       "      <th>stddev_r</th>\n",
       "      <th>stddev_g</th>\n",
       "      <th>stddev_b</th>\n",
       "      <th>contrast</th>\n",
       "      <th>correlation</th>\n",
       "      <th>inverse_difference_moments</th>\n",
       "      <th>entropy</th>\n",
       "    </tr>\n",
       "  </thead>\n",
       "  <tbody>\n",
       "    <tr>\n",
       "      <th>3964</th>\n",
       "      <td>110.072104</td>\n",
       "      <td>159.233719</td>\n",
       "      <td>131.961972</td>\n",
       "      <td>27.140586</td>\n",
       "      <td>24.466712</td>\n",
       "      <td>27.389126</td>\n",
       "      <td>95.133817</td>\n",
       "      <td>0.925400</td>\n",
       "      <td>0.178761</td>\n",
       "      <td>11.490641</td>\n",
       "    </tr>\n",
       "    <tr>\n",
       "      <th>1067</th>\n",
       "      <td>82.564043</td>\n",
       "      <td>98.890889</td>\n",
       "      <td>109.420928</td>\n",
       "      <td>39.298992</td>\n",
       "      <td>38.468545</td>\n",
       "      <td>51.228020</td>\n",
       "      <td>164.482505</td>\n",
       "      <td>0.947380</td>\n",
       "      <td>0.155684</td>\n",
       "      <td>12.454126</td>\n",
       "    </tr>\n",
       "    <tr>\n",
       "      <th>2401</th>\n",
       "      <td>115.825688</td>\n",
       "      <td>118.737737</td>\n",
       "      <td>94.857721</td>\n",
       "      <td>38.179354</td>\n",
       "      <td>36.353173</td>\n",
       "      <td>44.758595</td>\n",
       "      <td>57.467823</td>\n",
       "      <td>0.978724</td>\n",
       "      <td>0.289971</td>\n",
       "      <td>11.277982</td>\n",
       "    </tr>\n",
       "    <tr>\n",
       "      <th>4766</th>\n",
       "      <td>104.578959</td>\n",
       "      <td>118.873818</td>\n",
       "      <td>90.257840</td>\n",
       "      <td>68.741033</td>\n",
       "      <td>52.769674</td>\n",
       "      <td>68.411842</td>\n",
       "      <td>566.730354</td>\n",
       "      <td>0.917908</td>\n",
       "      <td>0.083414</td>\n",
       "      <td>13.676810</td>\n",
       "    </tr>\n",
       "    <tr>\n",
       "      <th>101</th>\n",
       "      <td>139.361927</td>\n",
       "      <td>145.180421</td>\n",
       "      <td>137.465901</td>\n",
       "      <td>65.475447</td>\n",
       "      <td>61.570231</td>\n",
       "      <td>69.279968</td>\n",
       "      <td>817.508787</td>\n",
       "      <td>0.893893</td>\n",
       "      <td>0.130472</td>\n",
       "      <td>13.343331</td>\n",
       "    </tr>\n",
       "  </tbody>\n",
       "</table>\n",
       "</div>"
      ],
      "text/plain": [
       "          mean_r      mean_g      mean_b   stddev_r   stddev_g   stddev_b  \\\n",
       "3964  110.072104  159.233719  131.961972  27.140586  24.466712  27.389126   \n",
       "1067   82.564043   98.890889  109.420928  39.298992  38.468545  51.228020   \n",
       "2401  115.825688  118.737737   94.857721  38.179354  36.353173  44.758595   \n",
       "4766  104.578959  118.873818   90.257840  68.741033  52.769674  68.411842   \n",
       "101   139.361927  145.180421  137.465901  65.475447  61.570231  69.279968   \n",
       "\n",
       "        contrast  correlation  inverse_difference_moments    entropy  \n",
       "3964   95.133817     0.925400                    0.178761  11.490641  \n",
       "1067  164.482505     0.947380                    0.155684  12.454126  \n",
       "2401   57.467823     0.978724                    0.289971  11.277982  \n",
       "4766  566.730354     0.917908                    0.083414  13.676810  \n",
       "101   817.508787     0.893893                    0.130472  13.343331  "
      ]
     },
     "execution_count": 19,
     "metadata": {},
     "output_type": "execute_result"
    }
   ],
   "source": [
    "X_train.head(5)"
   ]
  },
  {
   "cell_type": "code",
   "execution_count": 20,
   "metadata": {},
   "outputs": [
    {
     "data": {
      "text/plain": [
       "(6299, 10)"
      ]
     },
     "execution_count": 20,
     "metadata": {},
     "output_type": "execute_result"
    }
   ],
   "source": [
    "X_train.shape"
   ]
  },
  {
   "cell_type": "code",
   "execution_count": 21,
   "metadata": {},
   "outputs": [
    {
     "data": {
      "text/plain": [
       "array([10,  3,  5, 11,  0])"
      ]
     },
     "execution_count": 21,
     "metadata": {},
     "output_type": "execute_result"
    }
   ],
   "source": [
    "y_train[0:5]"
   ]
  },
  {
   "cell_type": "code",
   "execution_count": 22,
   "metadata": {},
   "outputs": [],
   "source": [
    "#Feature Scaling"
   ]
  },
  {
   "cell_type": "code",
   "execution_count": 23,
   "metadata": {},
   "outputs": [],
   "source": [
    "from sklearn.preprocessing import StandardScaler"
   ]
  },
  {
   "cell_type": "code",
   "execution_count": 24,
   "metadata": {},
   "outputs": [],
   "source": [
    "sc_X = StandardScaler()\n",
    "X_train = sc_X.fit_transform(X_train)\n",
    "X_test = sc_X.transform(X_test)"
   ]
  },
  {
   "cell_type": "code",
   "execution_count": 25,
   "metadata": {},
   "outputs": [
    {
     "data": {
      "text/plain": [
       "array([[-0.27135619,  1.72574766,  1.297164  , -1.25987687, -1.07737475,\n",
       "        -1.74538858, -0.81620459,  0.21267105, -0.11418883, -0.47311907],\n",
       "       [-1.58551432, -1.06029926,  0.44147284, -0.37957632,  0.01614473,\n",
       "         0.1912474 , -0.56039989,  0.57567253, -0.32973539,  0.25786502]])"
      ]
     },
     "execution_count": 25,
     "metadata": {},
     "output_type": "execute_result"
    }
   ],
   "source": [
    "X_train[0:2]"
   ]
  },
  {
   "cell_type": "code",
   "execution_count": 26,
   "metadata": {},
   "outputs": [
    {
     "data": {
      "text/plain": [
       "array([10,  3])"
      ]
     },
     "execution_count": 26,
     "metadata": {},
     "output_type": "execute_result"
    }
   ],
   "source": [
    "y_train[0:2]"
   ]
  },
  {
   "cell_type": "code",
   "execution_count": 27,
   "metadata": {},
   "outputs": [],
   "source": [
    "#Applying SVM classifier model"
   ]
  },
  {
   "cell_type": "code",
   "execution_count": 28,
   "metadata": {},
   "outputs": [],
   "source": [
    "from sklearn import svm"
   ]
  },
  {
   "cell_type": "code",
   "execution_count": 29,
   "metadata": {},
   "outputs": [
    {
     "data": {
      "text/plain": [
       "SVC(C=100.0, cache_size=200, class_weight=None, coef0=0.0,\n",
       "  decision_function_shape='ovr', degree=3, gamma=0.01, kernel='rbf',\n",
       "  max_iter=-1, probability=False, random_state=None, shrinking=True,\n",
       "  tol=0.001, verbose=False)"
      ]
     },
     "execution_count": 29,
     "metadata": {},
     "output_type": "execute_result"
    }
   ],
   "source": [
    "clf = svm.SVC(C=100.0, cache_size=200, class_weight=None, coef0=0.0,\n",
    "  decision_function_shape='ovr', degree=3, gamma=0.01, kernel='rbf',\n",
    "  max_iter=-1, probability=False, random_state=None, shrinking=True,\n",
    "  tol=0.001, verbose=False)\n",
    "clf.fit(X_train,y_train)"
   ]
  },
  {
   "cell_type": "code",
   "execution_count": 30,
   "metadata": {},
   "outputs": [],
   "source": [
    "y_pred = clf.predict(X_test)"
   ]
  },
  {
   "cell_type": "code",
   "execution_count": 31,
   "metadata": {},
   "outputs": [],
   "source": [
    "from sklearn import metrics"
   ]
  },
  {
   "cell_type": "code",
   "execution_count": 32,
   "metadata": {},
   "outputs": [
    {
     "data": {
      "text/plain": [
       "0.8314814814814815"
      ]
     },
     "execution_count": 32,
     "metadata": {},
     "output_type": "execute_result"
    }
   ],
   "source": [
    "metrics.accuracy_score(y_test, y_pred)"
   ]
  },
  {
   "cell_type": "code",
   "execution_count": 33,
   "metadata": {},
   "outputs": [],
   "source": [
    "from sklearn.model_selection import GridSearchCV\n"
   ]
  },
  {
   "cell_type": "code",
   "execution_count": 36,
   "metadata": {},
   "outputs": [],
   "source": [
    "parameters = [{'kernel': ['rbf'],\n",
    "               'gamma': [1e-4, 1e-3, 0.01, 0.1, 0.2, 0.5],\n",
    "               'C': [1, 10, 100, 1000]},\n",
    "              {'kernel': ['linear'], 'C': [1, 10, 100, 1000]}\n",
    "             ]"
   ]
  },
  {
   "cell_type": "code",
   "execution_count": 37,
   "metadata": {},
   "outputs": [
    {
     "data": {
      "text/plain": [
       "GridSearchCV(cv=5, error_score='raise',\n",
       "       estimator=SVC(C=1.0, cache_size=200, class_weight=None, coef0=0.0,\n",
       "  decision_function_shape='ovr', degree=3, gamma='auto', kernel='rbf',\n",
       "  max_iter=-1, probability=False, random_state=None, shrinking=True,\n",
       "  tol=0.001, verbose=False),\n",
       "       fit_params=None, iid=True, n_jobs=1,\n",
       "       param_grid=[{'kernel': ['rbf'], 'gamma': [0.0001, 0.001, 0.01, 0.1, 0.2, 0.5], 'C': [1, 10, 100, 1000]}, {'kernel': ['linear'], 'C': [1, 10, 100, 1000]}],\n",
       "       pre_dispatch='2*n_jobs', refit=True, return_train_score='warn',\n",
       "       scoring=None, verbose=0)"
      ]
     },
     "execution_count": 37,
     "metadata": {},
     "output_type": "execute_result"
    }
   ],
   "source": [
    "svm_clf = GridSearchCV(svm.SVC(decision_function_shape='ovr'), parameters, cv=5)\n",
    "svm_clf.fit(X_train, y_train)"
   ]
  },
  {
   "cell_type": "code",
   "execution_count": 38,
   "metadata": {},
   "outputs": [
    {
     "data": {
      "text/plain": [
       "{'C': 100, 'gamma': 0.1, 'kernel': 'rbf'}"
      ]
     },
     "execution_count": 38,
     "metadata": {},
     "output_type": "execute_result"
    }
   ],
   "source": [
    "svm_clf.best_params_"
   ]
  },
  {
   "cell_type": "code",
   "execution_count": null,
   "metadata": {},
   "outputs": [],
   "source": [
    "print(metrics.classification_report(y_test, y_pred))"
   ]
  },
  {
   "cell_type": "code",
   "execution_count": 46,
   "metadata": {},
   "outputs": [
    {
     "data": {
      "text/plain": [
       "3"
      ]
     },
     "execution_count": 46,
     "metadata": {},
     "output_type": "execute_result"
    }
   ],
   "source": [
    "int(int(clf.predict(X_train[0:1])))"
   ]
  },
  {
   "cell_type": "code",
   "execution_count": 39,
   "metadata": {},
   "outputs": [
    {
     "data": {
      "text/plain": [
       "SVC(C=100.0, cache_size=200, class_weight=None, coef0=0.0,\n",
       "  decision_function_shape='ovr', degree=3, gamma=0.1, kernel='rbf',\n",
       "  max_iter=-1, probability=False, random_state=None, shrinking=True,\n",
       "  tol=0.001, verbose=False)"
      ]
     },
     "execution_count": 39,
     "metadata": {},
     "output_type": "execute_result"
    }
   ],
   "source": [
    "clf = svm.SVC(C=100.0, cache_size=200, class_weight=None, coef0=0.0,\n",
    "  decision_function_shape='ovr', degree=3, gamma=0.1, kernel='rbf',\n",
    "  max_iter=-1, probability=False, random_state=None, shrinking=True,\n",
    "  tol=0.001, verbose=False)\n",
    "clf.fit(X_train,y_train)"
   ]
  },
  {
   "cell_type": "code",
   "execution_count": 40,
   "metadata": {},
   "outputs": [],
   "source": [
    "y_pred = clf.predict(X_test)"
   ]
  },
  {
   "cell_type": "code",
   "execution_count": 41,
   "metadata": {},
   "outputs": [
    {
     "data": {
      "text/plain": [
       "0.8688888888888889"
      ]
     },
     "execution_count": 41,
     "metadata": {},
     "output_type": "execute_result"
    }
   ],
   "source": [
    "metrics.accuracy_score(y_test, y_pred)"
   ]
  },
  {
   "cell_type": "code",
   "execution_count": null,
   "metadata": {},
   "outputs": [],
   "source": []
  }
 ],
 "metadata": {
  "kernelspec": {
   "display_name": "Python 3",
   "language": "python",
   "name": "python3"
  },
  "language_info": {
   "codemirror_mode": {
    "name": "ipython",
    "version": 3
   },
   "file_extension": ".py",
   "mimetype": "text/x-python",
   "name": "python",
   "nbconvert_exporter": "python",
   "pygments_lexer": "ipython3",
   "version": "3.7.4"
  }
 },
 "nbformat": 4,
 "nbformat_minor": 2
}
