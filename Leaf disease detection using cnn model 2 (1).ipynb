{
 "cells": [
  {
   "cell_type": "markdown",
   "metadata": {},
   "source": [
    "## Leaf Disease Detection Using CNN  "
   ]
  },
  {
   "cell_type": "code",
   "execution_count": 1,
   "metadata": {},
   "outputs": [],
   "source": [
    "#Intialization of Program. by Importing various LIbraries\n",
    "import numpy as np\n",
    "import matplotlib.pyplot as plt\n",
    "# here we are working on Tensorflow version 2.1.0 so we need to write tensorflow.keras.\n",
    "#keras is in built function in Tensorflow.\n",
    "import os\n",
    "import tensorflow as tf\n",
    "from tensorflow.keras.preprocessing.image import ImageDataGenerator\n",
    "from tensorflow.keras.layers import Dense, Input, Dropout,Flatten, Convolution2D\n",
    "from tensorflow.keras.layers import BatchNormalization, Activation, MaxPooling2D\n",
    "from tensorflow.keras.models import Model, Sequential\n",
    "from tensorflow.keras.optimizers import Adam\n",
    "from tensorflow.keras.callbacks import ModelCheckpoint, ReduceLROnPlateau\n",
    "from tensorflow.keras.utils import plot_model\n",
    "from IPython.display import SVG, Image"
   ]
  },
  {
   "cell_type": "code",
   "execution_count": 2,
   "metadata": {},
   "outputs": [
    {
     "name": "stdout",
     "output_type": "stream",
     "text": [
      "997 Pepper__bell___Bacterial_spot images\n",
      "1478 Pepper__bell___healthy images\n",
      "1000 Potato___Early_blight images\n",
      "152 Potato___healthy images\n",
      "1000 Potato___Late_blight images\n",
      "2127 Tomato_Bacterial_spot images\n",
      "1000 Tomato_Early_blight images\n",
      "1591 Tomato_healthy images\n",
      "1909 Tomato_Late_blight images\n",
      "952 Tomato_Leaf_Mold images\n",
      "1771 Tomato_Septoria_leaf_spot images\n",
      "1676 Tomato_Spider_mites_Two_spotted_spider_mite images\n",
      "1404 Tomato__Target_Spot images\n",
      "373 Tomato__Tomato_mosaic_virus images\n",
      "3209 Tomato__Tomato_YellowLeaf__Curl_Virus images\n"
     ]
    }
   ],
   "source": [
    "for types in os.listdir(\"C:/Users/KIIT/Desktop/Leaf_disease_detection/PlantVillage/plant_folder/\"):\n",
    "    print(str(len(os.listdir(\"C:/Users/KIIT/Desktop/Leaf_disease_detection/PlantVillage/plant_folder/\"+ types)))+\" \"+ types+' images')"
   ]
  },
  {
   "cell_type": "code",
   "execution_count": 5,
   "metadata": {},
   "outputs": [
    {
     "name": "stdout",
     "output_type": "stream",
     "text": [
      "Found 20638 images belonging to 15 classes.\n",
      "Found 20638 images belonging to 15 classes.\n"
     ]
    }
   ],
   "source": [
    "# Complete Dataset images can be loaded using ImageDataGenerator function\n",
    "img_size=48\n",
    "batch_size=64\n",
    "datagen_train=ImageDataGenerator(horizontal_flip=True)\n",
    "train_generator=datagen_train.flow_from_directory(\"C:/Users/KIIT/Desktop/Leaf_disease_detection/PlantVillage/plant_folder/\",\n",
    "target_size=(img_size,img_size),\n",
    "batch_size=batch_size,\n",
    "class_mode='categorical',\n",
    "shuffle=True)\n",
    "\n",
    "datagen_test=ImageDataGenerator(horizontal_flip=True)\n",
    "validation_generator=datagen_test.flow_from_directory(\"C:/Users/KIIT/Desktop/Leaf_disease_detection/PlantVillage/plant_folder/\",\n",
    "target_size=(img_size,img_size),\n",
    "batch_size=batch_size,\n",
    "class_mode='categorical',\n",
    "shuffle=True)"
   ]
  },
  {
   "cell_type": "code",
   "execution_count": 42,
   "metadata": {},
   "outputs": [],
   "source": [
    "detection=Sequential()"
   ]
  },
  {
   "cell_type": "code",
   "execution_count": 43,
   "metadata": {},
   "outputs": [],
   "source": [
    "#convolutional layer-1\n",
    "detection.add(Convolution2D(64,(3,3),padding='same',input_shape=(48,48,3)))\n",
    "detection.add(BatchNormalization())\n",
    "detection.add(Activation('relu'))\n",
    "detection.add(MaxPooling2D(pool_size=(2,2)))\n",
    "detection.add(Dropout(0.25))\n",
    "\n",
    "#2 -convolutional layer-2\n",
    "detection.add(Convolution2D(128,(5,5),padding='same'))\n",
    "detection.add(BatchNormalization())\n",
    "detection.add(Activation('relu'))\n",
    "detection.add(MaxPooling2D(pool_size=(2,2)))\n",
    "detection.add(Dropout(0.25))\n",
    "\n",
    "#3 -convolutional layer-3\n",
    "detection.add(Convolution2D(256,(3,3),padding='same'))\n",
    "detection.add(BatchNormalization())\n",
    "detection.add(Activation('relu'))\n",
    "detection.add(MaxPooling2D(pool_size=(2,2)))\n",
    "detection.add(Dropout(0.25))\n",
    "\n",
    "#4 -convolutional layer-4\n",
    "detection.add(Convolution2D(512,(3,3),padding='same'))\n",
    "detection.add(BatchNormalization())\n",
    "detection.add(Activation('relu'))\n",
    "detection.add(MaxPooling2D(pool_size=(2,2)))\n",
    "detection.add(Dropout(0.25))\n",
    "\n",
    "#5 -convolutional layer-5\n",
    "detection.add(Convolution2D(512,(3,3),padding='same'))\n",
    "detection.add(BatchNormalization())\n",
    "detection.add(Activation('relu'))\n",
    "detection.add(MaxPooling2D(pool_size=(2,2)))\n",
    "detection.add(Dropout(0.25))\n",
    "\n",
    "detection.add(Flatten())\n",
    "detection.add(Dense(256))\n",
    "detection.add(BatchNormalization())\n",
    "detection.add(Activation('relu'))\n",
    "detection.add(Dropout(0.25))\n",
    "\n",
    "detection.add(Dense(512))\n",
    "detection.add(BatchNormalization())\n",
    "detection.add(Activation('relu'))\n",
    "detection.add(Dropout(0.25))\n",
    "\n",
    "detection.add(Dense(15,activation='softmax'))\n",
    "optimum=Adam(lr=0.005)\n",
    "#lr-learning rate\n",
    "detection.compile(optimizer=optimum,loss='categorical_crossentropy',metrics=['accuracy'])\n"
   ]
  },
  {
   "cell_type": "code",
   "execution_count": 44,
   "metadata": {},
   "outputs": [
    {
     "name": "stdout",
     "output_type": "stream",
     "text": [
      "Model: \"sequential_2\"\n",
      "_________________________________________________________________\n",
      "Layer (type)                 Output Shape              Param #   \n",
      "=================================================================\n",
      "conv2d_7 (Conv2D)            (None, 48, 48, 64)        1792      \n",
      "_________________________________________________________________\n",
      "batch_normalization_7 (Batch (None, 48, 48, 64)        256       \n",
      "_________________________________________________________________\n",
      "activation_7 (Activation)    (None, 48, 48, 64)        0         \n",
      "_________________________________________________________________\n",
      "max_pooling2d_7 (MaxPooling2 (None, 24, 24, 64)        0         \n",
      "_________________________________________________________________\n",
      "dropout_5 (Dropout)          (None, 24, 24, 64)        0         \n",
      "_________________________________________________________________\n",
      "conv2d_8 (Conv2D)            (None, 24, 24, 128)       204928    \n",
      "_________________________________________________________________\n",
      "batch_normalization_8 (Batch (None, 24, 24, 128)       512       \n",
      "_________________________________________________________________\n",
      "activation_8 (Activation)    (None, 24, 24, 128)       0         \n",
      "_________________________________________________________________\n",
      "max_pooling2d_8 (MaxPooling2 (None, 12, 12, 128)       0         \n",
      "_________________________________________________________________\n",
      "dropout_6 (Dropout)          (None, 12, 12, 128)       0         \n",
      "_________________________________________________________________\n",
      "conv2d_9 (Conv2D)            (None, 12, 12, 256)       295168    \n",
      "_________________________________________________________________\n",
      "batch_normalization_9 (Batch (None, 12, 12, 256)       1024      \n",
      "_________________________________________________________________\n",
      "activation_9 (Activation)    (None, 12, 12, 256)       0         \n",
      "_________________________________________________________________\n",
      "max_pooling2d_9 (MaxPooling2 (None, 6, 6, 256)         0         \n",
      "_________________________________________________________________\n",
      "dropout_7 (Dropout)          (None, 6, 6, 256)         0         \n",
      "_________________________________________________________________\n",
      "conv2d_10 (Conv2D)           (None, 6, 6, 512)         1180160   \n",
      "_________________________________________________________________\n",
      "batch_normalization_10 (Batc (None, 6, 6, 512)         2048      \n",
      "_________________________________________________________________\n",
      "activation_10 (Activation)   (None, 6, 6, 512)         0         \n",
      "_________________________________________________________________\n",
      "max_pooling2d_10 (MaxPooling (None, 3, 3, 512)         0         \n",
      "_________________________________________________________________\n",
      "dropout_8 (Dropout)          (None, 3, 3, 512)         0         \n",
      "_________________________________________________________________\n",
      "conv2d_11 (Conv2D)           (None, 3, 3, 512)         2359808   \n",
      "_________________________________________________________________\n",
      "batch_normalization_11 (Batc (None, 3, 3, 512)         2048      \n",
      "_________________________________________________________________\n",
      "activation_11 (Activation)   (None, 3, 3, 512)         0         \n",
      "_________________________________________________________________\n",
      "max_pooling2d_11 (MaxPooling (None, 1, 1, 512)         0         \n",
      "_________________________________________________________________\n",
      "dropout_9 (Dropout)          (None, 1, 1, 512)         0         \n",
      "_________________________________________________________________\n",
      "flatten (Flatten)            (None, 512)               0         \n",
      "_________________________________________________________________\n",
      "dense (Dense)                (None, 256)               131328    \n",
      "_________________________________________________________________\n",
      "batch_normalization_12 (Batc (None, 256)               1024      \n",
      "_________________________________________________________________\n",
      "activation_12 (Activation)   (None, 256)               0         \n",
      "_________________________________________________________________\n",
      "dropout_10 (Dropout)         (None, 256)               0         \n",
      "_________________________________________________________________\n",
      "dense_1 (Dense)              (None, 512)               131584    \n",
      "_________________________________________________________________\n",
      "batch_normalization_13 (Batc (None, 512)               2048      \n",
      "_________________________________________________________________\n",
      "activation_13 (Activation)   (None, 512)               0         \n",
      "_________________________________________________________________\n",
      "dropout_11 (Dropout)         (None, 512)               0         \n",
      "_________________________________________________________________\n",
      "dense_2 (Dense)              (None, 15)                7695      \n",
      "=================================================================\n",
      "Total params: 4,321,423\n",
      "Trainable params: 4,316,943\n",
      "Non-trainable params: 4,480\n",
      "_________________________________________________________________\n"
     ]
    }
   ],
   "source": [
    "\n",
    "detection.summary()"
   ]
  },
  {
   "cell_type": "code",
   "execution_count": 45,
   "metadata": {},
   "outputs": [
    {
     "name": "stdout",
     "output_type": "stream",
     "text": [
      "Epoch 1/10\n",
      "322/322 [==============================] - 911s 3s/step - loss: 1.7590 - accuracy: 0.4370 - val_loss: 5.0324 - val_accuracy: 0.3017\n",
      "Epoch 2/10\n",
      "322/322 [==============================] - 943s 3s/step - loss: 0.7205 - accuracy: 0.7608 - val_loss: 3.6178 - val_accuracy: 0.4134\n",
      "Epoch 3/10\n",
      "322/322 [==============================] - 932s 3s/step - loss: 0.5094 - accuracy: 0.8255 - val_loss: 1.7738 - val_accuracy: 0.5764\n",
      "Epoch 4/10\n",
      "322/322 [==============================] - 879s 3s/step - loss: 0.4032 - accuracy: 0.8660 - val_loss: 1.0060 - val_accuracy: 0.6973\n",
      "Epoch 5/10\n",
      "322/322 [==============================] - 891s 3s/step - loss: 0.3302 - accuracy: 0.8860 - val_loss: 2.8808 - val_accuracy: 0.3931\n",
      "Epoch 6/10\n",
      "322/322 [==============================] - 868s 3s/step - loss: 0.2741 - accuracy: 0.9101 - val_loss: 0.2733 - val_accuracy: 0.9123\n",
      "Epoch 7/10\n",
      "322/322 [==============================] - 5273s 16s/step - loss: 0.2402 - accuracy: 0.9193 - val_loss: 2.2209 - val_accuracy: 0.5650\n",
      "Epoch 8/10\n",
      "322/322 [==============================] - 899s 3s/step - loss: 0.2309 - accuracy: 0.9233 - val_loss: 1.1822 - val_accuracy: 0.7138\n",
      "Epoch 9/10\n",
      "322/322 [==============================] - 788s 2s/step - loss: 0.2015 - accuracy: 0.9366 - val_loss: 0.2936 - val_accuracy: 0.9049\n",
      "Epoch 10/10\n",
      "322/322 [==============================] - 809s 3s/step - loss: 0.1826 - accuracy: 0.9395 - val_loss: 0.2208 - val_accuracy: 0.9191\n"
     ]
    }
   ],
   "source": [
    "ephocs=10\n",
    "steps_per_epoch=train_generator.n//train_generator.batch_size\n",
    "steps_per_epoch\n",
    "validation_steps=validation_generator.n//validation_generator.batch_size\n",
    "validation_steps\n",
    "detection.fit(x=train_generator,\n",
    "                    steps_per_epoch=steps_per_epoch,\n",
    "                    epochs=ephocs,\n",
    "                    validation_data=validation_generator,\n",
    "                    validation_steps=validation_steps)\n",
    "detection.save('Plant_Disease_Detection.h5')"
   ]
  },
  {
   "cell_type": "code",
   "execution_count": 47,
   "metadata": {},
   "outputs": [
    {
     "data": {
      "text/plain": [
       "'Tomato_healthy'"
      ]
     },
     "execution_count": 47,
     "metadata": {},
     "output_type": "execute_result"
    },
    {
     "data": {
      "image/png": "[encoded data removed]",
      "text/plain": [
       "<Figure size 432x288 with 1 Axes>"
      ]
     },
     "metadata": {
      "needs_background": "light"
     },
     "output_type": "display_data"
    }
   ],
   "source": [
    "from tensorflow.keras.models import load_model\n",
    "Detection=load_model('Plant_Disease_Detection.h5')\n",
    "from tensorflow.keras.preprocessing import image\n",
    "import numpy as np\n",
    "import matplotlib.pyplot as plt\n",
    "import cv2\n",
    "test_img=image.load_img(\"C:/Users/KIIT/Desktop/Leaf_disease_detection/PlantVillage/plant_folder/Tomato_healthy/000bf685-b305-408b-91f4-37030f8e62db___GH_HL Leaf 308.1.jpg\",target_size=(48,48))\n",
    "plt.imshow(test_img)\n",
    "test_img=image.img_to_array(test_img)\n",
    "test_img=np.expand_dims(test_img,axis=0)\n",
    "result=Detection.predict(test_img)\n",
    "a=result.argmax()\n",
    "# print('a:',a)\n",
    "classes=train_generator.class_indices\n",
    "# print(classes)\n",
    "# print(len(classes))\n",
    "category=[]\n",
    "for i in classes:\n",
    "          category.append(i)\n",
    "for i in range(len(classes)):\n",
    "          if(i==a):\n",
    "              output=category[i]\n",
    "output "
   ]
  },
  {
   "cell_type": "code",
   "execution_count": null,
   "metadata": {},
   "outputs": [],
   "source": []
  }
 ],
 "metadata": {
  "kernelspec": {
   "display_name": "Python 3",
   "language": "python",
   "name": "python3"
  },
  "language_info": {
   "codemirror_mode": {
    "name": "ipython",
    "version": 3
   },
   "file_extension": ".py",
   "mimetype": "text/x-python",
   "name": "python",
   "nbconvert_exporter": "python",
   "pygments_lexer": "ipython3",
   "version": "3.7.4"
  }
 },
 "nbformat": 4,
 "nbformat_minor": 2
}
